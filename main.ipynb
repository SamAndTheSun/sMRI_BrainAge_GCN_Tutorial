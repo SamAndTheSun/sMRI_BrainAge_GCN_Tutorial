{
  "cells": [
    {
      "cell_type": "markdown",
      "metadata": {
        "id": "aMVH4uNHhJS6"
      },
      "source": [
        "--------------------------------------------------------------------------------\n",
        "--------------------------------------------------------------------------------\n",
        "--------------------------------------------------------------------------------"
      ]
    },
    {
      "cell_type": "markdown",
      "source": [
        "Install relevant packages and modules"
      ],
      "metadata": {
        "id": "4gQwv5-hCTXH"
      }
    },
    {
      "cell_type": "code",
      "execution_count": 18,
      "metadata": {
        "vscode": {
          "languageId": "plaintext"
        },
        "colab": {
          "base_uri": "https://localhost:8080/"
        },
        "id": "oplxB4HUhJS7",
        "outputId": "45992688-0ff0-4aba-f4e8-3d793bd8faa7"
      },
      "outputs": [
        {
          "output_type": "stream",
          "name": "stdout",
          "text": [
            "Reading package lists... Done\n",
            "Building dependency tree... Done\n",
            "Reading state information... Done\n",
            "dcm2niix is already the newest version (1.0.20211006-1build1).\n",
            "0 upgraded, 0 newly installed, 0 to remove and 49 not upgraded.\n",
            "Reading package lists... Done\n",
            "Building dependency tree... Done\n",
            "Reading state information... Done\n",
            "parallel is already the newest version (20210822+ds-2).\n",
            "0 upgraded, 0 newly installed, 0 to remove and 49 not upgraded.\n",
            "Reading package lists... Done\n",
            "Building dependency tree... Done\n",
            "Reading state information... Done\n",
            "wget is already the newest version (1.21.2-2ubuntu1.1).\n",
            "0 upgraded, 0 newly installed, 0 to remove and 49 not upgraded.\n",
            "Reading package lists... Done\n",
            "Building dependency tree... Done\n",
            "Reading state information... Done\n",
            "grep is already the newest version (3.7-1build1).\n",
            "0 upgraded, 0 newly installed, 0 to remove and 49 not upgraded.\n",
            "Reading package lists... Done\n",
            "Building dependency tree... Done\n",
            "Reading state information... Done\n",
            "tcsh is already the newest version (6.21.00-1.1).\n",
            "0 upgraded, 0 newly installed, 0 to remove and 49 not upgraded.\n",
            "Reading package lists... Done\n",
            "Building dependency tree... Done\n",
            "Reading state information... Done\n",
            "bc is already the newest version (1.07.1-3build1).\n",
            "0 upgraded, 0 newly installed, 0 to remove and 49 not upgraded.\n",
            "Requirement already satisfied: nibabel in /usr/local/lib/python3.10/dist-packages (5.2.1)\n",
            "Requirement already satisfied: numpy>=1.20 in /usr/local/lib/python3.10/dist-packages (from nibabel) (1.26.4)\n",
            "Requirement already satisfied: packaging>=17 in /usr/local/lib/python3.10/dist-packages (from nibabel) (24.1)\n",
            "--2024-10-25 23:11:03--  https://freesurfer.net/pub/dist/freesurfer/7.4.1/freesurfer-linux-ubuntu22_amd64-7.4.1.tar.gz\n",
            "Resolving freesurfer.net (freesurfer.net)... 132.183.1.43\n",
            "Connecting to freesurfer.net (freesurfer.net)|132.183.1.43|:443... connected.\n",
            "HTTP request sent, awaiting response... 200 OK\n",
            "Length: 9484461482 (8.8G) [application/x-gzip]\n",
            "Saving to: ‘freesurfer.tar.gz’\n",
            "\n",
            "freesurfer.tar.gz   100%[===================>]   8.83G   103MB/s    in 1m 42s  \n",
            "\n",
            "2024-10-25 23:12:46 (88.3 MB/s) - ‘freesurfer.tar.gz’ saved [9484461482/9484461482]\n",
            "\n",
            "  % Total    % Received % Xferd  Average Speed   Time    Time     Time  Current\n",
            "                                 Dload  Upload   Total   Spent    Left  Speed\n",
            "100 10297  100 10297    0     0  68459      0 --:--:-- --:--:-- --:--:-- 68646\n",
            "INFO: /root/matlab/startup.m does not exist ... creating\n"
          ]
        }
      ],
      "source": [
        "!apt-get install -y dcm2niix # '!' runs commands in the console\n",
        "!apt-get install -y parallel\n",
        "\n",
        "# dependencies for freesurfer\n",
        "!apt-get install -y wget\n",
        "!apt-get install -y grep\n",
        "!apt-get install -y tcsh\n",
        "!apt-get install -y bc\n",
        "\n",
        "!pip install nibabel\n",
        "\n",
        "import os\n",
        "import glob\n",
        "import nibabel as nib\n",
        "\n",
        "# install freesurfer (might take a few minutes)\n",
        "\n",
        "# if you are having issues downloading freesurfer, it is likely due to the version selected here\n",
        "!wget -O freesurfer.tar.gz https://freesurfer.net/pub/dist/freesurfer/7.4.1/freesurfer-linux-ubuntu22_amd64-7.4.1.tar.gz\n",
        "!tar -xzf freesurfer.tar.gz\n",
        "\n",
        "# set the relevant freesurfer directories\n",
        "os.environ['FREESURFER_HOME'] = '/content/freesurfer'\n",
        "os.environ['SUBJECTS_DIR'] = '/content/freesurfer_output'\n",
        "os.environ['PATH'] += ':/content/freesurfer/bin'\n",
        "\n",
        "!source /content/freesurfer/SetUpFreeSurfer.sh"
      ]
    },
    {
      "cell_type": "markdown",
      "source": [
        "--------------------------------------------------------------------------------\n",
        "--------------------------------------------------------------------------------\n",
        "--------------------------------------------------------------------------------"
      ],
      "metadata": {
        "id": "kuPtZcxNB90t"
      }
    },
    {
      "cell_type": "markdown",
      "source": [
        "Add the FreeSurfer License path. This is free to get but due to their policy I cannot include it here. It is available at https://surfer.nmr.mgh.harvard.edu/registration.html"
      ],
      "metadata": {
        "id": "DeclvoFX_7RP"
      }
    },
    {
      "cell_type": "code",
      "source": [
        "from google.colab import files\n",
        "license = files.upload()\n",
        "\n",
        "# change this to what you named the license\n",
        "your_file_name = 'freesurfer_license.txt'\n",
        "\n",
        "# set this to\n",
        "os.environ['FS_LICENSE'] += f':/content/{your_file_name}'"
      ],
      "metadata": {
        "colab": {
          "base_uri": "https://localhost:8080/",
          "height": 73
        },
        "id": "RpwZXNzD_6va",
        "outputId": "053a6f1e-a036-4d8b-8f3a-a33964851244"
      },
      "execution_count": 25,
      "outputs": [
        {
          "output_type": "display_data",
          "data": {
            "text/plain": [
              "<IPython.core.display.HTML object>"
            ],
            "text/html": [
              "\n",
              "     <input type=\"file\" id=\"files-d9bb445e-d986-40c4-8892-92819c63fc90\" name=\"files[]\" multiple disabled\n",
              "        style=\"border:none\" />\n",
              "     <output id=\"result-d9bb445e-d986-40c4-8892-92819c63fc90\">\n",
              "      Upload widget is only available when the cell has been executed in the\n",
              "      current browser session. Please rerun this cell to enable.\n",
              "      </output>\n",
              "      <script>// Copyright 2017 Google LLC\n",
              "//\n",
              "// Licensed under the Apache License, Version 2.0 (the \"License\");\n",
              "// you may not use this file except in compliance with the License.\n",
              "// You may obtain a copy of the License at\n",
              "//\n",
              "//      http://www.apache.org/licenses/LICENSE-2.0\n",
              "//\n",
              "// Unless required by applicable law or agreed to in writing, software\n",
              "// distributed under the License is distributed on an \"AS IS\" BASIS,\n",
              "// WITHOUT WARRANTIES OR CONDITIONS OF ANY KIND, either express or implied.\n",
              "// See the License for the specific language governing permissions and\n",
              "// limitations under the License.\n",
              "\n",
              "/**\n",
              " * @fileoverview Helpers for google.colab Python module.\n",
              " */\n",
              "(function(scope) {\n",
              "function span(text, styleAttributes = {}) {\n",
              "  const element = document.createElement('span');\n",
              "  element.textContent = text;\n",
              "  for (const key of Object.keys(styleAttributes)) {\n",
              "    element.style[key] = styleAttributes[key];\n",
              "  }\n",
              "  return element;\n",
              "}\n",
              "\n",
              "// Max number of bytes which will be uploaded at a time.\n",
              "const MAX_PAYLOAD_SIZE = 100 * 1024;\n",
              "\n",
              "function _uploadFiles(inputId, outputId) {\n",
              "  const steps = uploadFilesStep(inputId, outputId);\n",
              "  const outputElement = document.getElementById(outputId);\n",
              "  // Cache steps on the outputElement to make it available for the next call\n",
              "  // to uploadFilesContinue from Python.\n",
              "  outputElement.steps = steps;\n",
              "\n",
              "  return _uploadFilesContinue(outputId);\n",
              "}\n",
              "\n",
              "// This is roughly an async generator (not supported in the browser yet),\n",
              "// where there are multiple asynchronous steps and the Python side is going\n",
              "// to poll for completion of each step.\n",
              "// This uses a Promise to block the python side on completion of each step,\n",
              "// then passes the result of the previous step as the input to the next step.\n",
              "function _uploadFilesContinue(outputId) {\n",
              "  const outputElement = document.getElementById(outputId);\n",
              "  const steps = outputElement.steps;\n",
              "\n",
              "  const next = steps.next(outputElement.lastPromiseValue);\n",
              "  return Promise.resolve(next.value.promise).then((value) => {\n",
              "    // Cache the last promise value to make it available to the next\n",
              "    // step of the generator.\n",
              "    outputElement.lastPromiseValue = value;\n",
              "    return next.value.response;\n",
              "  });\n",
              "}\n",
              "\n",
              "/**\n",
              " * Generator function which is called between each async step of the upload\n",
              " * process.\n",
              " * @param {string} inputId Element ID of the input file picker element.\n",
              " * @param {string} outputId Element ID of the output display.\n",
              " * @return {!Iterable<!Object>} Iterable of next steps.\n",
              " */\n",
              "function* uploadFilesStep(inputId, outputId) {\n",
              "  const inputElement = document.getElementById(inputId);\n",
              "  inputElement.disabled = false;\n",
              "\n",
              "  const outputElement = document.getElementById(outputId);\n",
              "  outputElement.innerHTML = '';\n",
              "\n",
              "  const pickedPromise = new Promise((resolve) => {\n",
              "    inputElement.addEventListener('change', (e) => {\n",
              "      resolve(e.target.files);\n",
              "    });\n",
              "  });\n",
              "\n",
              "  const cancel = document.createElement('button');\n",
              "  inputElement.parentElement.appendChild(cancel);\n",
              "  cancel.textContent = 'Cancel upload';\n",
              "  const cancelPromise = new Promise((resolve) => {\n",
              "    cancel.onclick = () => {\n",
              "      resolve(null);\n",
              "    };\n",
              "  });\n",
              "\n",
              "  // Wait for the user to pick the files.\n",
              "  const files = yield {\n",
              "    promise: Promise.race([pickedPromise, cancelPromise]),\n",
              "    response: {\n",
              "      action: 'starting',\n",
              "    }\n",
              "  };\n",
              "\n",
              "  cancel.remove();\n",
              "\n",
              "  // Disable the input element since further picks are not allowed.\n",
              "  inputElement.disabled = true;\n",
              "\n",
              "  if (!files) {\n",
              "    return {\n",
              "      response: {\n",
              "        action: 'complete',\n",
              "      }\n",
              "    };\n",
              "  }\n",
              "\n",
              "  for (const file of files) {\n",
              "    const li = document.createElement('li');\n",
              "    li.append(span(file.name, {fontWeight: 'bold'}));\n",
              "    li.append(span(\n",
              "        `(${file.type || 'n/a'}) - ${file.size} bytes, ` +\n",
              "        `last modified: ${\n",
              "            file.lastModifiedDate ? file.lastModifiedDate.toLocaleDateString() :\n",
              "                                    'n/a'} - `));\n",
              "    const percent = span('0% done');\n",
              "    li.appendChild(percent);\n",
              "\n",
              "    outputElement.appendChild(li);\n",
              "\n",
              "    const fileDataPromise = new Promise((resolve) => {\n",
              "      const reader = new FileReader();\n",
              "      reader.onload = (e) => {\n",
              "        resolve(e.target.result);\n",
              "      };\n",
              "      reader.readAsArrayBuffer(file);\n",
              "    });\n",
              "    // Wait for the data to be ready.\n",
              "    let fileData = yield {\n",
              "      promise: fileDataPromise,\n",
              "      response: {\n",
              "        action: 'continue',\n",
              "      }\n",
              "    };\n",
              "\n",
              "    // Use a chunked sending to avoid message size limits. See b/62115660.\n",
              "    let position = 0;\n",
              "    do {\n",
              "      const length = Math.min(fileData.byteLength - position, MAX_PAYLOAD_SIZE);\n",
              "      const chunk = new Uint8Array(fileData, position, length);\n",
              "      position += length;\n",
              "\n",
              "      const base64 = btoa(String.fromCharCode.apply(null, chunk));\n",
              "      yield {\n",
              "        response: {\n",
              "          action: 'append',\n",
              "          file: file.name,\n",
              "          data: base64,\n",
              "        },\n",
              "      };\n",
              "\n",
              "      let percentDone = fileData.byteLength === 0 ?\n",
              "          100 :\n",
              "          Math.round((position / fileData.byteLength) * 100);\n",
              "      percent.textContent = `${percentDone}% done`;\n",
              "\n",
              "    } while (position < fileData.byteLength);\n",
              "  }\n",
              "\n",
              "  // All done.\n",
              "  yield {\n",
              "    response: {\n",
              "      action: 'complete',\n",
              "    }\n",
              "  };\n",
              "}\n",
              "\n",
              "scope.google = scope.google || {};\n",
              "scope.google.colab = scope.google.colab || {};\n",
              "scope.google.colab._files = {\n",
              "  _uploadFiles,\n",
              "  _uploadFilesContinue,\n",
              "};\n",
              "})(self);\n",
              "</script> "
            ]
          },
          "metadata": {}
        },
        {
          "output_type": "stream",
          "name": "stdout",
          "text": [
            "Saving freesurfer_license.txt to freesurfer_license (1).txt\n"
          ]
        }
      ]
    },
    {
      "cell_type": "markdown",
      "source": [
        "--------------------------------------------------------------------------------\n",
        "--------------------------------------------------------------------------------\n",
        "--------------------------------------------------------------------------------"
      ],
      "metadata": {
        "id": "Mc-EQ2_rCLSS"
      }
    },
    {
      "cell_type": "markdown",
      "metadata": {
        "id": "xUDnBIbWhJS7"
      },
      "source": [
        "Get anonymized (T1 weighted) dicom files for analysis, and create temporary folders to store these and other files."
      ]
    },
    {
      "cell_type": "code",
      "execution_count": 26,
      "metadata": {
        "vscode": {
          "languageId": "plaintext"
        },
        "colab": {
          "base_uri": "https://localhost:8080/"
        },
        "id": "BCvkJMTKhJS7",
        "outputId": "c2707d12-0331-4edc-e887-70cc388020e2"
      },
      "outputs": [
        {
          "output_type": "stream",
          "name": "stdout",
          "text": [
            "fatal: destination path 'example-dicom-structural' already exists and is not an empty directory.\n",
            "mkdir: cannot create directory ‘/content/nii_files/’: File exists\n",
            "mkdir: cannot create directory ‘/content/freesurfer_output/’: File exists\n"
          ]
        }
      ],
      "source": [
        "# clone the repository to get the raw dicoms\n",
        "!git clone https://github.com/datalad/example-dicom-structural\n",
        "\n",
        "# create folders for the NIfTI conversions and corresponding recons\n",
        "!mkdir /content/nii_files/\n",
        "!mkdir /content/freesurfer_output/\n",
        "\n",
        "'''\n",
        "Note: \"T1 weighting\" refers to a form of MRI image processing performed by technicians.\n",
        "Online resources will nearly always provide processed MRI images,\n",
        "though they may not be T1 weighted\n",
        "''';"
      ]
    },
    {
      "cell_type": "markdown",
      "source": [
        "--------------------------------------------------------------------------------\n",
        "--------------------------------------------------------------------------------\n",
        "--------------------------------------------------------------------------------"
      ],
      "metadata": {
        "id": "4C8tsjF8COSp"
      }
    },
    {
      "cell_type": "markdown",
      "metadata": {
        "id": "l6B2eC9vhJS8"
      },
      "source": [
        "Convert the DICOMs to NIfTIs"
      ]
    },
    {
      "cell_type": "code",
      "execution_count": 27,
      "metadata": {
        "vscode": {
          "languageId": "plaintext"
        },
        "colab": {
          "base_uri": "https://localhost:8080/"
        },
        "id": "7y2Nu0k3hJS8",
        "outputId": "9a516b66-7922-4ff8-843f-2bed2cb28e12"
      },
      "outputs": [
        {
          "output_type": "stream",
          "name": "stdout",
          "text": [
            "Chris Rorden's dcm2niiX version v1.0.20211006  (JP2:OpenJPEG) GCC11.2.0 x86-64 (64-bit Linux)\n",
            "Found 384 DICOM file(s)\n",
            "Warning: Unable to determine manufacturer (0008,0070), so conversion is not tuned for vendor.\n",
            "Convert 384 DICOM as /content/nii_files/dicoms_anat-T1w_20130717141500_401b (274x384x384x1)\n",
            "Conversion required 0.378637 seconds (0.369799 for core code).\n"
          ]
        }
      ],
      "source": [
        "# prepare paths\n",
        "INPUT_PATH = '/content/example-dicom-structural/dicoms/'\n",
        "OUTPUT_PATH = '/content/nii_files/'\n",
        "\n",
        "# grep to ignore some warnings regarding the manufacturer (since we're using sample dicoms)\n",
        "!dcm2niix -o '{OUTPUT_PATH}' '{INPUT_PATH}' | grep -v \"Unknown manufacturer\""
      ]
    },
    {
      "cell_type": "markdown",
      "source": [
        "--------------------------------------------------------------------------------\n",
        "--------------------------------------------------------------------------------\n",
        "--------------------------------------------------------------------------------"
      ],
      "metadata": {
        "id": "IJXeK6BtCPoO"
      }
    },
    {
      "cell_type": "markdown",
      "metadata": {
        "id": "LqjqjMwphJS8"
      },
      "source": [
        "Reconstruct the NIfTI files.\n",
        "\n",
        "Parallel allows you to recon multiple subjects simultaneously by recruiting n CPU cores (determined by --jobs n)"
      ]
    },
    {
      "cell_type": "code",
      "source": [
        "# prepare paths\n",
        "INPUT_PATH = '/content/freesurfer_output'\n",
        "nii_paths = glob.glob('/content/nii_files/*.nii') # list of paths\n",
        "ALL_NII = ' '.join(nii_paths)  # format that parallel wants\n",
        "\n",
        "print(ALL_NII)\n",
        "\n",
        "# use parallel to execute recon-all on each NIfTI file\n",
        "!parallel --jobs 2 recon-all -i {} -s {/.} -all ::: /content/nii_files/*.nii"
      ],
      "metadata": {
        "colab": {
          "base_uri": "https://localhost:8080/"
        },
        "id": "xaJAqGHcy42K",
        "outputId": "4b5070a2-15cd-4795-a4ef-fa5a0f1ac4aa"
      },
      "execution_count": 40,
      "outputs": [
        {
          "output_type": "stream",
          "name": "stdout",
          "text": [
            "/content/nii_files/dicoms_anat-T1w_20130717141500_401a.nii /content/nii_files/dicoms_anat-T1w_20130717141500_401b.nii /content/nii_files/dicoms_anat-T1w_20130717141500_401.nii\n",
            "ERROR: You are trying to re-run an existing subject with (possibly)\n",
            " new input data (-i). If this is truly new input data, you should delete\n",
            " the subject folder and re-run, or specify a different subject name.\n",
            " If you are just continuing an analysis of an existing subject, then \n",
            " omit all -i flags.\n",
            "fs-check-version --s dicoms_anat-T1w_20130717141500_401b --o /tmp/tmp.J4ix1V\n",
            "Fri Oct 25 11:44:10 PM UTC 2024\n",
            "\n",
            "setenv SUBJECTS_DIR /content/freesurfer_output\n",
            "cd /content\n",
            "/content/freesurfer/bin/fs-check-version --s dicoms_anat-T1w_20130717141500_401b --o /tmp/tmp.J4ix1V\n",
            "-rwxrwxr-x 1 1623927 1623927 18565 Jun 14  2023 /content/freesurfer/bin/fs-check-version\n",
            "\n",
            "freesurfer-linux-ubuntu22_x86_64-7.4.1-20230614-7eb8460\n",
            "$Id$\n",
            "Linux 2fd6eb4ee372 6.1.85+ #1 SMP PREEMPT_DYNAMIC Thu Jun 27 21:05:47 UTC 2024 x86_64 x86_64 x86_64 GNU/Linux\n",
            "pid 12988\n",
            "Current FS Version freesurfer-linux-ubuntu22_x86_64-7.4.1-20230614-7eb8460\n",
            "Subject does not have a bstampfile, copying /content/freesurfer/build-stamp.txt\n",
            "Subject FS Version: freesurfer-linux-ubuntu22_x86_64-7.4.1-20230614-7eb8460\n",
            "No constraints on version because REQ=UnSet and FsVerFile=NotThere\n",
            "#@#% fs-check-version match = 1\n",
            "fs-check-version Done\n",
            "INFO: SUBJECTS_DIR is /content/freesurfer_output\n",
            "Actual FREESURFER_HOME /content/freesurfer\n",
            "Linux 2fd6eb4ee372 6.1.85+ #1 SMP PREEMPT_DYNAMIC Thu Jun 27 21:05:47 UTC 2024 x86_64 x86_64 x86_64 GNU/Linux\n",
            "/content/freesurfer_output/dicoms_anat-T1w_20130717141500_401b\n",
            "\n",
            " mri_convert /content/nii_files/dicoms_anat-T1w_20130717141500_401b.nii /content/freesurfer_output/dicoms_anat-T1w_20130717141500_401b/mri/orig/001.mgz \n",
            "\n",
            "mri_convert /content/nii_files/dicoms_anat-T1w_20130717141500_401b.nii /content/freesurfer_output/dicoms_anat-T1w_20130717141500_401b/mri/orig/001.mgz \n",
            "--------------------------------------------------------------------------\n",
            "ERROR: FreeSurfer license file /content/LICENSE.txt:/content/freesurfer_license.txt not found.\n",
            "  If you are outside the NMR-Martinos Center,\n",
            "  go to http://surfer.nmr.mgh.harvard.edu/registration.html to \n",
            "  get a valid license file (it's free).\n",
            "  If you are inside the NMR-Martinos Center,\n",
            "  make sure to source the standard environment.\n",
            "  A path to an alternative license file can also be\n",
            "  specified with the FS_LICENSE environmental variable.\n",
            "--------------------------------------------------------------------------\n",
            "reading from /content/nii_files/dicoms_anat-T1w_20130717141500_401b.nii...\n",
            "Linux 2fd6eb4ee372 6.1.85+ #1 SMP PREEMPT_DYNAMIC Thu Jun 27 21:05:47 UTC 2024 x86_64 x86_64 x86_64 GNU/Linux\n",
            "\n",
            "recon-all -s dicoms_anat-T1w_20130717141500_401b exited with ERRORS at Fri Oct 25 11:44:11 PM UTC 2024\n",
            "\n",
            "For more details, see the log file /content/freesurfer_output/dicoms_anat-T1w_20130717141500_401b/scripts/recon-all.log\n",
            "To report a problem, see http://surfer.nmr.mgh.harvard.edu/fswiki/BugReporting\n",
            "\n",
            "nu_correct: Command not found.\n",
            "fs-check-version --s dicoms_anat-T1w_20130717141500_401 --o /tmp/tmp.pivAAv\n",
            "Fri Oct 25 11:44:11 PM UTC 2024\n",
            "\n",
            "setenv SUBJECTS_DIR /content/freesurfer_output\n",
            "cd /content\n",
            "/content/freesurfer/bin/fs-check-version --s dicoms_anat-T1w_20130717141500_401 --o /tmp/tmp.pivAAv\n",
            "-rwxrwxr-x 1 1623927 1623927 18565 Jun 14  2023 /content/freesurfer/bin/fs-check-version\n",
            "\n",
            "freesurfer-linux-ubuntu22_x86_64-7.4.1-20230614-7eb8460\n",
            "$Id$\n",
            "Linux 2fd6eb4ee372 6.1.85+ #1 SMP PREEMPT_DYNAMIC Thu Jun 27 21:05:47 UTC 2024 x86_64 x86_64 x86_64 GNU/Linux\n",
            "pid 13149\n",
            "Current FS Version freesurfer-linux-ubuntu22_x86_64-7.4.1-20230614-7eb8460\n",
            "Subject does not have a bstampfile, copying /content/freesurfer/build-stamp.txt\n",
            "Subject FS Version: freesurfer-linux-ubuntu22_x86_64-7.4.1-20230614-7eb8460\n",
            "No constraints on version because REQ=UnSet and FsVerFile=NotThere\n",
            "#@#% fs-check-version match = 1\n",
            "fs-check-version Done\n",
            "INFO: SUBJECTS_DIR is /content/freesurfer_output\n",
            "Actual FREESURFER_HOME /content/freesurfer\n",
            "Linux 2fd6eb4ee372 6.1.85+ #1 SMP PREEMPT_DYNAMIC Thu Jun 27 21:05:47 UTC 2024 x86_64 x86_64 x86_64 GNU/Linux\n",
            "/content/freesurfer_output/dicoms_anat-T1w_20130717141500_401\n",
            "\n",
            " mri_convert /content/nii_files/dicoms_anat-T1w_20130717141500_401.nii /content/freesurfer_output/dicoms_anat-T1w_20130717141500_401/mri/orig/001.mgz \n",
            "\n",
            "mri_convert /content/nii_files/dicoms_anat-T1w_20130717141500_401.nii /content/freesurfer_output/dicoms_anat-T1w_20130717141500_401/mri/orig/001.mgz \n",
            "--------------------------------------------------------------------------\n",
            "ERROR: FreeSurfer license file /content/LICENSE.txt:/content/freesurfer_license.txt not found.\n",
            "  If you are outside the NMR-Martinos Center,\n",
            "  go to http://surfer.nmr.mgh.harvard.edu/registration.html to \n",
            "  get a valid license file (it's free).\n",
            "  If you are inside the NMR-Martinos Center,\n",
            "  make sure to source the standard environment.\n",
            "  A path to an alternative license file can also be\n",
            "  specified with the FS_LICENSE environmental variable.\n",
            "--------------------------------------------------------------------------\n",
            "reading from /content/nii_files/dicoms_anat-T1w_20130717141500_401.nii...\n",
            "Linux 2fd6eb4ee372 6.1.85+ #1 SMP PREEMPT_DYNAMIC Thu Jun 27 21:05:47 UTC 2024 x86_64 x86_64 x86_64 GNU/Linux\n",
            "\n",
            "recon-all -s dicoms_anat-T1w_20130717141500_401 exited with ERRORS at Fri Oct 25 11:44:12 PM UTC 2024\n",
            "\n",
            "For more details, see the log file /content/freesurfer_output/dicoms_anat-T1w_20130717141500_401/scripts/recon-all.log\n",
            "To report a problem, see http://surfer.nmr.mgh.harvard.edu/fswiki/BugReporting\n",
            "\n",
            "nu_correct: Command not found.\n"
          ]
        }
      ]
    },
    {
      "cell_type": "markdown",
      "source": [
        "--------------------------------------------------------------------------------\n",
        "--------------------------------------------------------------------------------\n",
        "--------------------------------------------------------------------------------"
      ],
      "metadata": {
        "id": "7jKwK_OWCReu"
      }
    }
  ],
  "metadata": {
    "language_info": {
      "name": "python"
    },
    "colab": {
      "provenance": []
    },
    "kernelspec": {
      "name": "python3",
      "display_name": "Python 3"
    }
  },
  "nbformat": 4,
  "nbformat_minor": 0
}