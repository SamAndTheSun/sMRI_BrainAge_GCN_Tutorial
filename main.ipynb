{
  "cells": [
    {
      "cell_type": "markdown",
      "metadata": {
        "id": "aMVH4uNHhJS6"
      },
      "source": [
        "Install relevant modules and packages"
      ]
    },
    {
      "cell_type": "code",
      "execution_count": 19,
      "metadata": {
        "vscode": {
          "languageId": "plaintext"
        },
        "colab": {
          "base_uri": "https://localhost:8080/"
        },
        "id": "oplxB4HUhJS7",
        "outputId": "21683da5-a00b-4430-ffe8-798049f1d5b3"
      },
      "outputs": [
        {
          "output_type": "stream",
          "name": "stdout",
          "text": [
            "Reading package lists... Done\n",
            "Building dependency tree... Done\n",
            "Reading state information... Done\n",
            "dcm2niix is already the newest version (1.0.20211006-1build1).\n",
            "0 upgraded, 0 newly installed, 0 to remove and 49 not upgraded.\n",
            "Reading package lists... Done\n",
            "Building dependency tree... Done\n",
            "Reading state information... Done\n",
            "parallel is already the newest version (20210822+ds-2).\n",
            "0 upgraded, 0 newly installed, 0 to remove and 49 not upgraded.\n",
            "Reading package lists... Done\n",
            "Building dependency tree... Done\n",
            "Reading state information... Done\n",
            "wget is already the newest version (1.21.2-2ubuntu1.1).\n",
            "0 upgraded, 0 newly installed, 0 to remove and 49 not upgraded.\n",
            "Reading package lists... Done\n",
            "Building dependency tree... Done\n",
            "Reading state information... Done\n",
            "grep is already the newest version (3.7-1build1).\n",
            "0 upgraded, 0 newly installed, 0 to remove and 49 not upgraded.\n",
            "Reading package lists... Done\n",
            "Building dependency tree... Done\n",
            "Reading state information... Done\n",
            "tcsh is already the newest version (6.21.00-1.1).\n",
            "0 upgraded, 0 newly installed, 0 to remove and 49 not upgraded.\n",
            "Requirement already satisfied: nibabel in /usr/local/lib/python3.10/dist-packages (5.2.1)\n",
            "Requirement already satisfied: numpy>=1.20 in /usr/local/lib/python3.10/dist-packages (from nibabel) (1.26.4)\n",
            "Requirement already satisfied: packaging>=17 in /usr/local/lib/python3.10/dist-packages (from nibabel) (24.1)\n",
            "--2024-10-25 22:03:07--  https://freesurfer.net/pub/dist/freesurfer/7.4.1/freesurfer-linux-ubuntu22_amd64-7.4.1.tar.gz\n",
            "Resolving freesurfer.net (freesurfer.net)... 132.183.1.43\n",
            "Connecting to freesurfer.net (freesurfer.net)|132.183.1.43|:443... connected.\n",
            "HTTP request sent, awaiting response... 200 OK\n",
            "Length: 9484461482 (8.8G) [application/x-gzip]\n",
            "Saving to: ‘freesurfer.tar.gz’\n",
            "\n",
            "freesurfer.tar.gz   100%[===================>]   8.83G  37.9MB/s    in 4m 6s   \n",
            "\n",
            "2024-10-25 22:07:14 (36.7 MB/s) - ‘freesurfer.tar.gz’ saved [9484461482/9484461482]\n",
            "\n"
          ]
        }
      ],
      "source": [
        "!apt-get install -y dcm2niix # '!' runs commands in the console\n",
        "!apt-get install -y parallel\n",
        "!apt-get install -y wget\n",
        "!apt-get install -y grep\n",
        "!apt-get install -y tcsh\n",
        "\n",
        "!pip install nibabel\n",
        "\n",
        "import os\n",
        "import glob\n",
        "import nibabel as nib\n",
        "\n",
        "# install freesurfer (might take a few minutes)\n",
        "\n",
        "# if you are having issues downloading freesurfer, it is likely due to the version selected here\n",
        "!wget -O freesurfer.tar.gz https://freesurfer.net/pub/dist/freesurfer/7.4.1/freesurfer-linux-ubuntu22_amd64-7.4.1.tar.gz\n",
        "!tar -xzf freesurfer.tar.gz\n",
        "\n",
        "# set the relevant freesurfer directories\n",
        "os.environ['FREESURFER_HOME'] = '/content/freesurfer'\n",
        "os.environ['SUBJECTS_DIR'] = '/content/freesurfer_output'\n",
        "os.environ['PATH'] += ':/content/freesurfer/bin'\n",
        "\n",
        "!source /content/freesurfer/SetUpFreeSurfer.sh"
      ]
    },
    {
      "cell_type": "code",
      "source": [],
      "metadata": {
        "id": "g4ZLO_mmoFm3"
      },
      "execution_count": null,
      "outputs": []
    },
    {
      "cell_type": "markdown",
      "metadata": {
        "id": "xUDnBIbWhJS7"
      },
      "source": [
        "Get anonymized (T1 weighted) dicom files for analysis, and create temporary folders to store these and other files."
      ]
    },
    {
      "cell_type": "code",
      "execution_count": 21,
      "metadata": {
        "vscode": {
          "languageId": "plaintext"
        },
        "colab": {
          "base_uri": "https://localhost:8080/"
        },
        "id": "BCvkJMTKhJS7",
        "outputId": "4bcac891-4bc5-41f0-d387-24d87298558e"
      },
      "outputs": [
        {
          "output_type": "stream",
          "name": "stdout",
          "text": [
            "fatal: destination path 'example-dicom-structural' already exists and is not an empty directory.\n",
            "mkdir: cannot create directory ‘/content/nii_files/’: File exists\n",
            "mkdir: cannot create directory ‘/content/freesurfer_output/’: File exists\n"
          ]
        }
      ],
      "source": [
        "# clone the repository to get the raw dicoms\n",
        "!git clone https://github.com/datalad/example-dicom-structural\n",
        "\n",
        "# create folders for the NIfTI conversions and corresponding recons\n",
        "!mkdir /content/nii_files/\n",
        "!mkdir /content/freesurfer_output/\n",
        "\n",
        "'''\n",
        "Note: \"T1 weighting\" refers to a form of MRI image processing performed by technicians.\n",
        "Online resources will nearly always provide processed MRI images,\n",
        "though they may not be T1 weighted\n",
        "''';"
      ]
    },
    {
      "cell_type": "markdown",
      "metadata": {
        "id": "l6B2eC9vhJS8"
      },
      "source": [
        "Convert the DICOMs to NIfTIs"
      ]
    },
    {
      "cell_type": "code",
      "execution_count": 22,
      "metadata": {
        "vscode": {
          "languageId": "plaintext"
        },
        "colab": {
          "base_uri": "https://localhost:8080/"
        },
        "id": "7y2Nu0k3hJS8",
        "outputId": "b5b691ab-ae73-438b-8db2-256b580999ce"
      },
      "outputs": [
        {
          "output_type": "stream",
          "name": "stdout",
          "text": [
            "Chris Rorden's dcm2niiX version v1.0.20211006  (JP2:OpenJPEG) GCC11.2.0 x86-64 (64-bit Linux)\n",
            "Found 384 DICOM file(s)\n",
            "Warning: Unable to determine manufacturer (0008,0070), so conversion is not tuned for vendor.\n",
            "Convert 384 DICOM as /content/nii_files/dicoms_anat-T1w_20130717141500_401d (274x384x384x1)\n",
            "Conversion required 0.576597 seconds (0.570945 for core code).\n"
          ]
        }
      ],
      "source": [
        "# prepare paths\n",
        "INPUT_PATH = '/content/example-dicom-structural/dicoms/'\n",
        "OUTPUT_PATH = '/content/nii_files/'\n",
        "\n",
        "# grep to ignore some warnings regarding the manufacturer (since we're using sample dicoms)\n",
        "!dcm2niix -o '{OUTPUT_PATH}' '{INPUT_PATH}' | grep -v \"Unknown manufacturer\""
      ]
    },
    {
      "cell_type": "code",
      "source": [
        "!recon-all -i /content/nii_files/dicoms_anat-T1w_20130717141500_401.nii -s test_subject"
      ],
      "metadata": {
        "id": "bl7fJgwuwOjL",
        "outputId": "1a3c75c7-5878-498b-bc44-0b6560d66978",
        "colab": {
          "base_uri": "https://localhost:8080/"
        }
      },
      "execution_count": 34,
      "outputs": [
        {
          "output_type": "stream",
          "name": "stdout",
          "text": [
            "ERROR: SUBJECTS_DIR /content/subjects does not exist.\n"
          ]
        }
      ]
    },
    {
      "cell_type": "markdown",
      "metadata": {
        "id": "LqjqjMwphJS8"
      },
      "source": [
        "Reconstruct the NIfTI files.\n",
        "\n",
        "Parallel allows you to recon multiple subjects simultaneously by recruiting n CPU cores (determined by --jobs n)"
      ]
    },
    {
      "cell_type": "code",
      "execution_count": 32,
      "metadata": {
        "vscode": {
          "languageId": "plaintext"
        },
        "colab": {
          "base_uri": "https://localhost:8080/"
        },
        "id": "crFduo1ZhJS8",
        "outputId": "2d647b65-a1a7-4b61-ea1d-7cee5e0f3582"
      },
      "outputs": [
        {
          "output_type": "stream",
          "name": "stdout",
          "text": [
            "ERROR: cannot find -sd\n",
            "Linux 07abd3fb8efa 6.1.85+ #1 SMP PREEMPT_DYNAMIC Thu Jun 27 21:05:47 UTC 2024 x86_64 x86_64 x86_64 GNU/Linux\n",
            "\n",
            "recon-all -s  exited with ERRORS at Fri Oct 25 10:21:13 PM UTC 2024\n",
            "\n",
            "For more details, see the log file \n",
            "To report a problem, see http://surfer.nmr.mgh.harvard.edu/fswiki/BugReporting\n",
            "\n"
          ]
        }
      ],
      "source": [
        "# prepare paths\n",
        "INPUT_PATH = '/content/drive/MyDrive/freesurfer_output'\n",
        "nii_paths = glob.glob('/content/drive/MyDrive/nii_files/*.nii')\n",
        "ALL_NIIS = ' '.join(nii_paths) # format that parallel wants\n",
        "\n",
        "# Use parallel to execute recon-all on each NIfTI file\n",
        "!parallel --jobs 2 'recon-all -i {} -sd {} -all' ::: $ALL_NIIS ::: \"$INPUT_PATH\""
      ]
    }
  ],
  "metadata": {
    "language_info": {
      "name": "python"
    },
    "colab": {
      "provenance": []
    },
    "kernelspec": {
      "name": "python3",
      "display_name": "Python 3"
    }
  },
  "nbformat": 4,
  "nbformat_minor": 0
}