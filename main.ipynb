{
  "cells": [
    {
      "cell_type": "markdown",
      "metadata": {
        "id": "aMVH4uNHhJS6"
      },
      "source": [
        "Install relevant modules and packages"
      ]
    },
    {
      "cell_type": "code",
      "execution_count": 1,
      "metadata": {
        "vscode": {
          "languageId": "plaintext"
        },
        "colab": {
          "base_uri": "https://localhost:8080/"
        },
        "id": "oplxB4HUhJS7",
        "outputId": "3c0f387c-74a9-42d2-9d9a-2315b200878d"
      },
      "outputs": [
        {
          "output_type": "stream",
          "name": "stdout",
          "text": [
            "Reading package lists... Done\n",
            "Building dependency tree... Done\n",
            "Reading state information... Done\n",
            "The following additional packages will be installed:\n",
            "  libyaml-cpp0.7 pigz\n",
            "The following NEW packages will be installed:\n",
            "  dcm2niix libyaml-cpp0.7 pigz\n",
            "0 upgraded, 3 newly installed, 0 to remove and 49 not upgraded.\n",
            "Need to get 417 kB of archives.\n",
            "After this operation, 1,393 kB of additional disk space will be used.\n",
            "Get:1 http://archive.ubuntu.com/ubuntu jammy/universe amd64 pigz amd64 2.6-1 [63.6 kB]\n",
            "Get:2 http://archive.ubuntu.com/ubuntu jammy/main amd64 libyaml-cpp0.7 amd64 0.7.0+dfsg-8build1 [97.7 kB]\n",
            "Get:3 http://archive.ubuntu.com/ubuntu jammy/universe amd64 dcm2niix amd64 1.0.20211006-1build1 [256 kB]\n",
            "Fetched 417 kB in 1s (625 kB/s)\n",
            "Selecting previously unselected package pigz.\n",
            "(Reading database ... 123622 files and directories currently installed.)\n",
            "Preparing to unpack .../archives/pigz_2.6-1_amd64.deb ...\n",
            "Unpacking pigz (2.6-1) ...\n",
            "Selecting previously unselected package libyaml-cpp0.7:amd64.\n",
            "Preparing to unpack .../libyaml-cpp0.7_0.7.0+dfsg-8build1_amd64.deb ...\n",
            "Unpacking libyaml-cpp0.7:amd64 (0.7.0+dfsg-8build1) ...\n",
            "Selecting previously unselected package dcm2niix.\n",
            "Preparing to unpack .../dcm2niix_1.0.20211006-1build1_amd64.deb ...\n",
            "Unpacking dcm2niix (1.0.20211006-1build1) ...\n",
            "Setting up libyaml-cpp0.7:amd64 (0.7.0+dfsg-8build1) ...\n",
            "Setting up pigz (2.6-1) ...\n",
            "Setting up dcm2niix (1.0.20211006-1build1) ...\n",
            "Processing triggers for man-db (2.10.2-1) ...\n",
            "Processing triggers for libc-bin (2.35-0ubuntu3.4) ...\n",
            "/sbin/ldconfig.real: /usr/local/lib/libur_adapter_level_zero.so.0 is not a symbolic link\n",
            "\n",
            "/sbin/ldconfig.real: /usr/local/lib/libtbbbind_2_5.so.3 is not a symbolic link\n",
            "\n",
            "/sbin/ldconfig.real: /usr/local/lib/libtbbbind.so.3 is not a symbolic link\n",
            "\n",
            "/sbin/ldconfig.real: /usr/local/lib/libtbbmalloc.so.2 is not a symbolic link\n",
            "\n",
            "/sbin/ldconfig.real: /usr/local/lib/libur_adapter_opencl.so.0 is not a symbolic link\n",
            "\n",
            "/sbin/ldconfig.real: /usr/local/lib/libtbb.so.12 is not a symbolic link\n",
            "\n",
            "/sbin/ldconfig.real: /usr/local/lib/libtbbbind_2_0.so.3 is not a symbolic link\n",
            "\n",
            "/sbin/ldconfig.real: /usr/local/lib/libur_loader.so.0 is not a symbolic link\n",
            "\n",
            "/sbin/ldconfig.real: /usr/local/lib/libtbbmalloc_proxy.so.2 is not a symbolic link\n",
            "\n",
            "Reading package lists... Done\n",
            "Building dependency tree... Done\n",
            "Reading state information... Done\n",
            "The following additional packages will be installed:\n",
            "  sysstat\n",
            "Suggested packages:\n",
            "  ash csh fish ksh tcsh zsh isag\n",
            "The following NEW packages will be installed:\n",
            "  parallel sysstat\n",
            "0 upgraded, 2 newly installed, 0 to remove and 49 not upgraded.\n",
            "Need to get 2,434 kB of archives.\n",
            "After this operation, 4,521 kB of additional disk space will be used.\n",
            "Get:1 http://archive.ubuntu.com/ubuntu jammy-updates/main amd64 sysstat amd64 12.5.2-2ubuntu0.2 [487 kB]\n",
            "Get:2 http://archive.ubuntu.com/ubuntu jammy/universe amd64 parallel all 20210822+ds-2 [1,947 kB]\n",
            "Fetched 2,434 kB in 1s (2,838 kB/s)\n",
            "Preconfiguring packages ...\n",
            "Selecting previously unselected package sysstat.\n",
            "(Reading database ... 123643 files and directories currently installed.)\n",
            "Preparing to unpack .../sysstat_12.5.2-2ubuntu0.2_amd64.deb ...\n",
            "Unpacking sysstat (12.5.2-2ubuntu0.2) ...\n",
            "Selecting previously unselected package parallel.\n",
            "Preparing to unpack .../parallel_20210822+ds-2_all.deb ...\n",
            "Adding 'diversion of /usr/bin/parallel to /usr/bin/parallel.moreutils by parallel'\n",
            "Adding 'diversion of /usr/share/man/man1/parallel.1.gz to /usr/share/man/man1/parallel.moreutils.1.gz by parallel'\n",
            "Unpacking parallel (20210822+ds-2) ...\n",
            "Setting up sysstat (12.5.2-2ubuntu0.2) ...\n",
            "\n",
            "Creating config file /etc/default/sysstat with new version\n",
            "update-alternatives: using /usr/bin/sar.sysstat to provide /usr/bin/sar (sar) in auto mode\n",
            "Created symlink /etc/systemd/system/sysstat.service.wants/sysstat-collect.timer → /lib/systemd/system/sysstat-collect.timer.\n",
            "Created symlink /etc/systemd/system/sysstat.service.wants/sysstat-summary.timer → /lib/systemd/system/sysstat-summary.timer.\n",
            "Created symlink /etc/systemd/system/multi-user.target.wants/sysstat.service → /lib/systemd/system/sysstat.service.\n",
            "Setting up parallel (20210822+ds-2) ...\n",
            "Processing triggers for man-db (2.10.2-1) ...\n",
            "Reading package lists... Done\n",
            "Building dependency tree... Done\n",
            "Reading state information... Done\n",
            "wget is already the newest version (1.21.2-2ubuntu1.1).\n",
            "0 upgraded, 0 newly installed, 0 to remove and 49 not upgraded.\n",
            "Reading package lists... Done\n",
            "Building dependency tree... Done\n",
            "Reading state information... Done\n",
            "grep is already the newest version (3.7-1build1).\n",
            "0 upgraded, 0 newly installed, 0 to remove and 49 not upgraded.\n",
            "Reading package lists... Done\n",
            "Building dependency tree... Done\n",
            "Reading state information... Done\n",
            "The following NEW packages will be installed:\n",
            "  tcsh\n",
            "0 upgraded, 1 newly installed, 0 to remove and 49 not upgraded.\n",
            "Need to get 422 kB of archives.\n",
            "After this operation, 1,351 kB of additional disk space will be used.\n",
            "Get:1 http://archive.ubuntu.com/ubuntu jammy/universe amd64 tcsh amd64 6.21.00-1.1 [422 kB]\n",
            "Fetched 422 kB in 1s (638 kB/s)\n",
            "Selecting previously unselected package tcsh.\n",
            "(Reading database ... 123791 files and directories currently installed.)\n",
            "Preparing to unpack .../tcsh_6.21.00-1.1_amd64.deb ...\n",
            "Unpacking tcsh (6.21.00-1.1) ...\n",
            "Setting up tcsh (6.21.00-1.1) ...\n",
            "update-alternatives: using /bin/tcsh to provide /bin/csh (csh) in auto mode\n",
            "Processing triggers for man-db (2.10.2-1) ...\n",
            "Reading package lists... Done\n",
            "Building dependency tree... Done\n",
            "Reading state information... Done\n",
            "The following NEW packages will be installed:\n",
            "  bc\n",
            "0 upgraded, 1 newly installed, 0 to remove and 49 not upgraded.\n",
            "Need to get 87.6 kB of archives.\n",
            "After this operation, 220 kB of additional disk space will be used.\n",
            "Get:1 http://archive.ubuntu.com/ubuntu jammy/main amd64 bc amd64 1.07.1-3build1 [87.6 kB]\n",
            "Fetched 87.6 kB in 0s (217 kB/s)\n",
            "Selecting previously unselected package bc.\n",
            "(Reading database ... 123834 files and directories currently installed.)\n",
            "Preparing to unpack .../bc_1.07.1-3build1_amd64.deb ...\n",
            "Unpacking bc (1.07.1-3build1) ...\n",
            "Setting up bc (1.07.1-3build1) ...\n",
            "Processing triggers for man-db (2.10.2-1) ...\n",
            "Requirement already satisfied: nibabel in /usr/local/lib/python3.10/dist-packages (5.2.1)\n",
            "Requirement already satisfied: numpy>=1.20 in /usr/local/lib/python3.10/dist-packages (from nibabel) (1.26.4)\n",
            "Requirement already satisfied: packaging>=17 in /usr/local/lib/python3.10/dist-packages (from nibabel) (24.1)\n",
            "Cloning into 'freesurfer'...\n",
            "remote: Enumerating objects: 464854, done.\u001b[K\n",
            "remote: Counting objects: 100% (243/243), done.\u001b[K\n",
            "remote: Compressing objects: 100% (148/148), done.\u001b[K\n",
            "remote: Total 464854 (delta 109), reused 198 (delta 95), pack-reused 464611 (from 1)\u001b[K\n",
            "Receiving objects: 100% (464854/464854), 872.75 MiB | 29.51 MiB/s, done.\n",
            "Resolving deltas: 100% (304290/304290), done.\n",
            "Updating files: 100% (7274/7274), done.\n",
            "/bin/bash: line 1: /content/freesurfer/SetUpFreeSurfer.sh: No such file or directory\n"
          ]
        }
      ],
      "source": [
        "!apt-get install -y dcm2niix # '!' runs commands in the console\n",
        "!apt-get install -y parallel\n",
        "\n",
        "# dependencies for freesurfer\n",
        "!apt-get install -y wget\n",
        "!apt-get install -y grep\n",
        "!apt-get install -y tcsh\n",
        "!apt-get install -y bc\n",
        "\n",
        "!pip install nibabel\n",
        "\n",
        "import os\n",
        "import glob\n",
        "import nibabel as nib\n",
        "\n",
        "# install freesurfer (might take a few minutes)\n",
        "\n",
        "# if you are having issues downloading freesurfer, it is likely due to the version selected here\n",
        "!wget -O freesurfer.tar.gz https://freesurfer.net/pub/dist/freesurfer/7.4.1/freesurfer-linux-ubuntu22_amd64-7.4.1.tar.gz\n",
        "!tar -xzf freesurfer.tar.gz\n",
        "\n",
        "# set the relevant freesurfer directories\n",
        "os.environ['FREESURFER_HOME'] = '/content/freesurfer'\n",
        "os.environ['SUBJECTS_DIR'] = '/content/freesurfer_output'\n",
        "os.environ['PATH'] += ':/content/freesurfer/bin'\n",
        "\n",
        "# get the freesurfer license\n",
        "!curl -O https://raw.githubusercontent.com/freesurfer/freesurfer/dev/LICENSE.txt\n",
        "os.environ['FS_LICENSE'] = '/content/LICENSE.txt'\n",
        "\n",
        "!source /content/freesurfer/SetUpFreeSurfer.sh"
      ]
    },
    {
      "cell_type": "markdown",
      "metadata": {
        "id": "xUDnBIbWhJS7"
      },
      "source": [
        "Get anonymized (T1 weighted) dicom files for analysis, and create temporary folders to store these and other files."
      ]
    },
    {
      "cell_type": "code",
      "execution_count": 2,
      "metadata": {
        "vscode": {
          "languageId": "plaintext"
        },
        "colab": {
          "base_uri": "https://localhost:8080/"
        },
        "id": "BCvkJMTKhJS7",
        "outputId": "1c0b56f3-d12b-485a-9888-cdaa805c21ac"
      },
      "outputs": [
        {
          "output_type": "stream",
          "name": "stdout",
          "text": [
            "Cloning into 'example-dicom-structural'...\n",
            "remote: Enumerating objects: 393, done.\u001b[K\n",
            "remote: Total 393 (delta 0), reused 0 (delta 0), pack-reused 393 (from 1)\u001b[K\n",
            "Receiving objects: 100% (393/393), 15.45 MiB | 20.98 MiB/s, done.\n",
            "Resolving deltas: 100% (223/223), done.\n"
          ]
        }
      ],
      "source": [
        "# clone the repository to get the raw dicoms\n",
        "!git clone https://github.com/datalad/example-dicom-structural\n",
        "\n",
        "# create folders for the NIfTI conversions and corresponding recons\n",
        "!mkdir /content/nii_files/\n",
        "!mkdir /content/freesurfer_output/\n",
        "\n",
        "'''\n",
        "Note: \"T1 weighting\" refers to a form of MRI image processing performed by technicians.\n",
        "Online resources will nearly always provide processed MRI images,\n",
        "though they may not be T1 weighted\n",
        "''';"
      ]
    },
    {
      "cell_type": "code",
      "source": [
        "!curl -O https://raw.githubusercontent.com/freesurfer/freesurfer/dev/LICENSE.txt\n"
      ],
      "metadata": {
        "id": "4rxPKHOS7Nat",
        "outputId": "ea6afc36-c567-48d8-bbaa-8071a67e9085",
        "colab": {
          "base_uri": "https://localhost:8080/"
        }
      },
      "execution_count": 17,
      "outputs": [
        {
          "output_type": "stream",
          "name": "stdout",
          "text": [
            "  % Total    % Received % Xferd  Average Speed   Time    Time     Time  Current\n",
            "                                 Dload  Upload   Total   Spent    Left  Speed\n",
            "\r  0     0    0     0    0     0      0      0 --:--:-- --:--:-- --:--:--     0\r100 10297  100 10297    0     0  70217      0 --:--:-- --:--:-- --:--:-- 70527\n"
          ]
        }
      ]
    },
    {
      "cell_type": "markdown",
      "metadata": {
        "id": "l6B2eC9vhJS8"
      },
      "source": [
        "Convert the DICOMs to NIfTIs"
      ]
    },
    {
      "cell_type": "code",
      "execution_count": 3,
      "metadata": {
        "vscode": {
          "languageId": "plaintext"
        },
        "colab": {
          "base_uri": "https://localhost:8080/"
        },
        "id": "7y2Nu0k3hJS8",
        "outputId": "12c1aa05-9cb8-4d48-8042-7f97b1e2d3b2"
      },
      "outputs": [
        {
          "output_type": "stream",
          "name": "stdout",
          "text": [
            "Chris Rorden's dcm2niiX version v1.0.20211006  (JP2:OpenJPEG) GCC11.2.0 x86-64 (64-bit Linux)\n",
            "Found 384 DICOM file(s)\n",
            "Warning: Unable to determine manufacturer (0008,0070), so conversion is not tuned for vendor.\n",
            "Convert 384 DICOM as /content/nii_files/dicoms_anat-T1w_20130717141500_401 (274x384x384x1)\n",
            "Conversion required 0.539933 seconds (0.450988 for core code).\n"
          ]
        }
      ],
      "source": [
        "# prepare paths\n",
        "INPUT_PATH = '/content/example-dicom-structural/dicoms/'\n",
        "OUTPUT_PATH = '/content/nii_files/'\n",
        "\n",
        "# grep to ignore some warnings regarding the manufacturer (since we're using sample dicoms)\n",
        "!dcm2niix -o '{OUTPUT_PATH}' '{INPUT_PATH}' | grep -v \"Unknown manufacturer\""
      ]
    },
    {
      "cell_type": "markdown",
      "metadata": {
        "id": "LqjqjMwphJS8"
      },
      "source": [
        "Reconstruct the NIfTI files.\n",
        "\n",
        "Parallel allows you to recon multiple subjects simultaneously by recruiting n CPU cores (determined by --jobs n)"
      ]
    },
    {
      "cell_type": "code",
      "source": [
        "# prepare paths\n",
        "INPUT_PATH = '/content/freesurfer_output'\n",
        "nii_paths = glob.glob('/content/nii_files/*.nii')\n",
        "ALL_NII = ' '.join(nii_paths)  # format that parallel wants\n",
        "\n",
        "# use parallel to execute recon-all on each NIfTI file\n",
        "!parallel --jobs 2 recon-all -i {} -s {/.} -all ::: /content/nii_files/dicoms_anat-T1w_20130717141500_401a.nii"
      ],
      "metadata": {
        "colab": {
          "base_uri": "https://localhost:8080/"
        },
        "id": "xaJAqGHcy42K",
        "outputId": "5bfe2f4d-1a6f-4f93-82b0-8da845692a29"
      },
      "execution_count": 4,
      "outputs": [
        {
          "output_type": "stream",
          "name": "stdout",
          "text": [
            "/bin/bash: line 1: recon-all: command not found\n"
          ]
        }
      ]
    },
    {
      "cell_type": "code",
      "source": [
        "INPUT_PATH = '/content/freesurfer_output'\n",
        "nii_paths = glob.glob('/content/nii_files/*.nii')\n",
        "ALL_NII = ' '.join(nii_paths)  # format that parallel wants"
      ],
      "metadata": {
        "id": "GVPgFOWc1cc-",
        "outputId": "f224cf7c-df48-404c-e005-35238ebb29a8",
        "colab": {
          "base_uri": "https://localhost:8080/",
          "height": 70
        }
      },
      "execution_count": null,
      "outputs": [
        {
          "output_type": "execute_result",
          "data": {
            "text/plain": [
              "'/content/nii_files/dicoms_anat-T1w_20130717141500_401a.nii /content/nii_files/dicoms_anat-T1w_20130717141500_401c.nii /content/nii_files/dicoms_anat-T1w_20130717141500_401b.nii /content/nii_files/dicoms_anat-T1w_20130717141500_401d.nii /content/nii_files/dicoms_anat-T1w_20130717141500_401.nii'"
            ],
            "application/vnd.google.colaboratory.intrinsic+json": {
              "type": "string"
            }
          },
          "metadata": {},
          "execution_count": 58
        }
      ]
    },
    {
      "cell_type": "code",
      "source": [],
      "metadata": {
        "id": "Cju8kixr3M5L"
      },
      "execution_count": null,
      "outputs": []
    }
  ],
  "metadata": {
    "language_info": {
      "name": "python"
    },
    "colab": {
      "provenance": []
    },
    "kernelspec": {
      "name": "python3",
      "display_name": "Python 3"
    }
  },
  "nbformat": 4,
  "nbformat_minor": 0
}