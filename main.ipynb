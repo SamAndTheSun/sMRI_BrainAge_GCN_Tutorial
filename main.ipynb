{
 "cells": [
  {
   "cell_type": "markdown",
   "metadata": {},
   "source": [
    "Install relevant modules and packages "
   ]
  },
  {
   "cell_type": "code",
   "execution_count": null,
   "metadata": {
    "vscode": {
     "languageId": "plaintext"
    }
   },
   "outputs": [],
   "source": [
    "!apt-get install -y dcm2niix\n",
    "!apt-get install -y freesurfer # note that this may take a while\n",
    "!apt-get install -y parallel\n",
    "\n",
    "!pip install nibabel\n",
    "!pip install glob"
   ]
  },
  {
   "cell_type": "markdown",
   "metadata": {},
   "source": [
    "Mount the google drive so that new files can be created (they will be deleted in the last cell)"
   ]
  },
  {
   "cell_type": "markdown",
   "metadata": {},
   "source": [
    "from google.colab import drive\n",
    "drive.mount('/content/drive')"
   ]
  },
  {
   "cell_type": "markdown",
   "metadata": {},
   "source": [
    "Get anonymized (T1 weighted) dicom files for analysis, and create temporary folders to store these and other files"
   ]
  },
  {
   "cell_type": "code",
   "execution_count": null,
   "metadata": {
    "vscode": {
     "languageId": "plaintext"
    }
   },
   "outputs": [],
   "source": [
    "# clone the repository to get the raw dicoms\n",
    "!git clone https://github.com/datalad/example-dicom-structural\n",
    "\n",
    "# create folders for the NIfTI conversions and corresponding recons\n",
    "!mkdir /content/drive/MyDrive/nii_files\n",
    "!mkdir /content/drive/MyDrive/freesurfer_output"
   ]
  },
  {
   "cell_type": "markdown",
   "metadata": {},
   "source": [
    "Convert the DICOMs to NIfTIs"
   ]
  },
  {
   "cell_type": "code",
   "execution_count": null,
   "metadata": {
    "vscode": {
     "languageId": "plaintext"
    }
   },
   "outputs": [],
   "source": [
    "INPUT_PATH = '/content/example-dicom-structural/dicoms/'\n",
    "OUTPUT_PATH = '/content/drive/MyDrive/nii_files'\n",
    "\n",
    "!dcm2niix '{INPUT_PATH}' --OutDirMode=1 --OutDir='{OUTPUT_PATH}' > /content/drive/MyDrive/log_file.txt"
   ]
  },
  {
   "cell_type": "markdown",
   "metadata": {},
   "source": [
    "Reconstruct the Nii files.\n",
    "\n",
    "Parallel is used here for demonstration purposes, but since we only have a single dicom-containing folder, it doesn't do anything in practice. \n",
    "\n",
    "Using parallel in this way allows you to recon multiple subjects simultaneously by recruiting n CPU cores (determined by --jobs n)"
   ]
  },
  {
   "cell_type": "code",
   "execution_count": null,
   "metadata": {
    "vscode": {
     "languageId": "plaintext"
    }
   },
   "outputs": [],
   "source": [
    "RECON_PATH = '/content/drive/MyDrive/freesurfer_output'\n",
    "\n",
    "import glob\n",
    "ALL_NIIS = glob.glob('/content/drive/MyDrive/nii_files/*')\n",
    "\n",
    "parallel --jobs 1 'recon-all -i {} -sd '\"$RECON_PATH\"' -all' ::: $ALL_NIIS"
   ]
  }
 ],
 "metadata": {
  "language_info": {
   "name": "python"
  }
 },
 "nbformat": 4,
 "nbformat_minor": 2
}
