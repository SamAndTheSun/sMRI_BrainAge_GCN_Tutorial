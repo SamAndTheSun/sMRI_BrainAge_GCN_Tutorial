{
 "cells": [
  {
   "cell_type": "markdown",
   "metadata": {},
   "source": [
    "Install relevant modules and packages "
   ]
  },
  {
   "cell_type": "code",
   "execution_count": null,
   "metadata": {
    "vscode": {
     "languageId": "plaintext"
    }
   },
   "outputs": [],
   "source": [
    "!apt-get install -y dcm2niix\n",
    "!apt-get install -y parallel\n",
    "\n",
    "!pip install nibabel\n",
    "\n",
    "import os\n",
    "import glob\n",
    "import nibabel as nib\n",
    "\n",
    "# install freesurfer (might take a few minutes)\n",
    "!apt-get install -y wget\n",
    "!apt-get install -y grep\n",
    "\n",
    "# if you are having issues downloading freesurfer, it is likely due to the version selected here\n",
    "!wget -O freesurfer.tar.gz https://freesurfer.net/pub/dist/freesurfer/7.5.0/freesurfer-macOS-darwin_arm64-7.5.0.tar.gz\n",
    "!tar -xzf freesurfer.tar.gz\n",
    "\n",
    "# set the relevant freesurfer directories\n",
    "os.environ['FREESURFER_HOME'] = '/content/freesurfer'\n",
    "os.environ['SUBJECTS_DIR'] = '/content/subjects'\n",
    "os.environ['FS_LICENSE'] = '/content/license.txt'  # Add your license file path if you have one\n",
    "os.environ['PATH'] += ':/content/freesurfer/bin'"
   ]
  },
  {
   "cell_type": "markdown",
   "metadata": {},
   "source": [
    "Get anonymized (T1 weighted) dicom files for analysis, and create temporary folders to store these and other files"
   ]
  },
  {
   "cell_type": "code",
   "execution_count": null,
   "metadata": {
    "vscode": {
     "languageId": "plaintext"
    }
   },
   "outputs": [],
   "source": [
    "# clone the repository to get the raw dicoms\n",
    "!git clone https://github.com/datalad/example-dicom-structural\n",
    "\n",
    "# create folders for the NIfTI conversions and corresponding recons\n",
    "!mkdir /content/nii_files/\n",
    "!mkdir /content/freesurfer_output/"
   ]
  },
  {
   "cell_type": "markdown",
   "metadata": {},
   "source": [
    "Convert the DICOMs to NIfTIs"
   ]
  },
  {
   "cell_type": "code",
   "execution_count": null,
   "metadata": {
    "vscode": {
     "languageId": "plaintext"
    }
   },
   "outputs": [],
   "source": [
    "INPUT_PATH = '/content/example-dicom-structural/dicoms/'\n",
    "OUTPUT_PATH = '/content/nii_files/'\n",
    "\n",
    "# grep ignores warnings regarding the manufacturer (since we're using sample dicoms)\n",
    "!dcm2niix -o '{OUTPUT_PATH}' '{INPUT_PATH}' | grep -v “Unknown Manufacturer”"
   ]
  },
  {
   "cell_type": "markdown",
   "metadata": {},
   "source": [
    "Reconstruct the Nii files.\n",
    "\n",
    "Parallel is used here for demonstration purposes, but since we only have a single dicom-containing folder, it doesn't do anything in practice. \n",
    "\n",
    "Using parallel in this way allows you to recon multiple subjects (each with their own folder) simultaneously by recruiting n CPU cores (determined by --jobs n)"
   ]
  },
  {
   "cell_type": "code",
   "execution_count": null,
   "metadata": {
    "vscode": {
     "languageId": "plaintext"
    }
   },
   "outputs": [],
   "source": [
    "RECON_PATH = '/content/drive/MyDrive/freesurfer_output'\n",
    "\n",
    "import glob\n",
    "ALL_NIIS = glob.glob('/content/drive/MyDrive/nii_files/*')\n",
    "\n",
    "parallel --jobs 1 'recon-all -i {} -sd '\"$RECON_PATH\"' -all' ::: $ALL_NIIS"
   ]
  }
 ],
 "metadata": {
  "language_info": {
   "name": "python"
  }
 },
 "nbformat": 4,
 "nbformat_minor": 2
}
