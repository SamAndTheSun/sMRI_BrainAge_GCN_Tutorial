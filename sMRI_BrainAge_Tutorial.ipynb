{
  "cells": [
    {
      "cell_type": "markdown",
      "metadata": {
        "id": "aMVH4uNHhJS6"
      },
      "source": [
        "--------------------------------------------------------------------------------\n",
        "--------------------------------------------------------------------------------\n",
        "--------------------------------------------------------------------------------"
      ]
    },
    {
      "cell_type": "markdown",
      "source": [
        "Install relevant packages and modules"
      ],
      "metadata": {
        "id": "4gQwv5-hCTXH"
      }
    },
    {
      "cell_type": "code",
      "execution_count": 3,
      "metadata": {
        "vscode": {
          "languageId": "plaintext"
        },
        "colab": {
          "base_uri": "https://localhost:8080/"
        },
        "id": "oplxB4HUhJS7",
        "outputId": "96f1dbf6-72f6-401c-b1df-bb50379bc68c"
      },
      "outputs": [
        {
          "output_type": "stream",
          "name": "stdout",
          "text": [
            "Reading package lists... Done\n",
            "Building dependency tree... Done\n",
            "Reading state information... Done\n",
            "dcm2niix is already the newest version (1.0.20211006-1build1).\n",
            "0 upgraded, 0 newly installed, 0 to remove and 49 not upgraded.\n",
            "Reading package lists... Done\n",
            "Building dependency tree... Done\n",
            "Reading state information... Done\n",
            "parallel is already the newest version (20210822+ds-2).\n",
            "0 upgraded, 0 newly installed, 0 to remove and 49 not upgraded.\n",
            "Reading package lists... Done\n",
            "Building dependency tree... Done\n",
            "Reading state information... Done\n",
            "wget is already the newest version (1.21.2-2ubuntu1.1).\n",
            "0 upgraded, 0 newly installed, 0 to remove and 49 not upgraded.\n",
            "Reading package lists... Done\n",
            "Building dependency tree... Done\n",
            "Reading state information... Done\n",
            "grep is already the newest version (3.7-1build1).\n",
            "0 upgraded, 0 newly installed, 0 to remove and 49 not upgraded.\n",
            "Reading package lists... Done\n",
            "Building dependency tree... Done\n",
            "Reading state information... Done\n",
            "tcsh is already the newest version (6.21.00-1.1).\n",
            "0 upgraded, 0 newly installed, 0 to remove and 49 not upgraded.\n",
            "Reading package lists... Done\n",
            "Building dependency tree... Done\n",
            "Reading state information... Done\n",
            "bc is already the newest version (1.07.1-3build1).\n",
            "0 upgraded, 0 newly installed, 0 to remove and 49 not upgraded.\n",
            "Requirement already satisfied: nibabel in /usr/local/lib/python3.10/dist-packages (5.2.1)\n",
            "Requirement already satisfied: numpy>=1.20 in /usr/local/lib/python3.10/dist-packages (from nibabel) (1.26.4)\n",
            "Requirement already satisfied: packaging>=17 in /usr/local/lib/python3.10/dist-packages (from nibabel) (24.1)\n",
            "--2024-10-27 03:05:30--  https://freesurfer.net/pub/dist/freesurfer/7.4.1/freesurfer-linux-ubuntu22_amd64-7.4.1.tar.gz\n",
            "Resolving freesurfer.net (freesurfer.net)... 132.183.1.43\n",
            "Connecting to freesurfer.net (freesurfer.net)|132.183.1.43|:443... connected.\n",
            "HTTP request sent, awaiting response... 200 OK\n",
            "Length: 9484461482 (8.8G) [application/x-gzip]\n",
            "Saving to: ‘freesurfer.tar.gz’\n",
            "\n",
            "freesurfer.tar.gz   100%[===================>]   8.83G  38.0MB/s    in 4m 3s   \n",
            "\n",
            "2024-10-27 03:09:33 (37.2 MB/s) - ‘freesurfer.tar.gz’ saved [9484461482/9484461482]\n",
            "\n"
          ]
        }
      ],
      "source": [
        "!apt-get install -y dcm2niix # '!' runs commands in the console\n",
        "!apt-get install -y parallel\n",
        "\n",
        "# dependencies for freesurfer\n",
        "!apt-get install -y wget\n",
        "!apt-get install -y grep\n",
        "!apt-get install -y tcsh\n",
        "!apt-get install -y bc\n",
        "\n",
        "!pip install nibabel\n",
        "\n",
        "import os\n",
        "import glob\n",
        "import nibabel as nib\n",
        "import numpy as np\n",
        "\n",
        "# install freesurfer (might take a few minutes)\n",
        "\n",
        "# if you are having issues downloading freesurfer, it is likely due to the version selected here\n",
        "!wget -O freesurfer.tar.gz https://freesurfer.net/pub/dist/freesurfer/7.4.1/freesurfer-linux-ubuntu22_amd64-7.4.1.tar.gz\n",
        "!tar -xzf freesurfer.tar.gz\n",
        "\n",
        "# set the relevant freesurfer directories\n",
        "os.environ['FREESURFER_HOME'] = '/content/freesurfer'\n",
        "os.environ['SUBJECTS_DIR'] = '/content/freesurfer_output'\n",
        "os.environ['PATH'] += ':/content/freesurfer/bin'\n",
        "\n",
        "!source /content/freesurfer/SetUpFreeSurfer.sh"
      ]
    },
    {
      "cell_type": "markdown",
      "source": [
        "--------------------------------------------------------------------------------\n",
        "--------------------------------------------------------------------------------\n",
        "--------------------------------------------------------------------------------"
      ],
      "metadata": {
        "id": "kuPtZcxNB90t"
      }
    },
    {
      "cell_type": "markdown",
      "source": [
        "Add the FreeSurfer License path. This is free to get but due to their policy I cannot include it here. It is available at https://surfer.nmr.mgh.harvard.edu/registration.html"
      ],
      "metadata": {
        "id": "DeclvoFX_7RP"
      }
    },
    {
      "cell_type": "code",
      "source": [
        "from google.colab import files\n",
        "license = files.upload()\n",
        "\n",
        "# change this to what you named the license\n",
        "your_file_name = 'freesurfer_license.txt'\n",
        "\n",
        "# set the enviorment to use the license\n",
        "os.environ['FS_LICENSE'] = f'/content/{your_file_name}'"
      ],
      "metadata": {
        "colab": {
          "base_uri": "https://localhost:8080/",
          "height": 73
        },
        "id": "RpwZXNzD_6va",
        "outputId": "1d2e615e-66ab-4743-b701-f6621c5caa67"
      },
      "execution_count": null,
      "outputs": [
        {
          "output_type": "display_data",
          "data": {
            "text/plain": [
              "<IPython.core.display.HTML object>"
            ],
            "text/html": [
              "\n",
              "     <input type=\"file\" id=\"files-43aa6017-9b00-4bb6-92a6-c27fb003e126\" name=\"files[]\" multiple disabled\n",
              "        style=\"border:none\" />\n",
              "     <output id=\"result-43aa6017-9b00-4bb6-92a6-c27fb003e126\">\n",
              "      Upload widget is only available when the cell has been executed in the\n",
              "      current browser session. Please rerun this cell to enable.\n",
              "      </output>\n",
              "      <script>// Copyright 2017 Google LLC\n",
              "//\n",
              "// Licensed under the Apache License, Version 2.0 (the \"License\");\n",
              "// you may not use this file except in compliance with the License.\n",
              "// You may obtain a copy of the License at\n",
              "//\n",
              "//      http://www.apache.org/licenses/LICENSE-2.0\n",
              "//\n",
              "// Unless required by applicable law or agreed to in writing, software\n",
              "// distributed under the License is distributed on an \"AS IS\" BASIS,\n",
              "// WITHOUT WARRANTIES OR CONDITIONS OF ANY KIND, either express or implied.\n",
              "// See the License for the specific language governing permissions and\n",
              "// limitations under the License.\n",
              "\n",
              "/**\n",
              " * @fileoverview Helpers for google.colab Python module.\n",
              " */\n",
              "(function(scope) {\n",
              "function span(text, styleAttributes = {}) {\n",
              "  const element = document.createElement('span');\n",
              "  element.textContent = text;\n",
              "  for (const key of Object.keys(styleAttributes)) {\n",
              "    element.style[key] = styleAttributes[key];\n",
              "  }\n",
              "  return element;\n",
              "}\n",
              "\n",
              "// Max number of bytes which will be uploaded at a time.\n",
              "const MAX_PAYLOAD_SIZE = 100 * 1024;\n",
              "\n",
              "function _uploadFiles(inputId, outputId) {\n",
              "  const steps = uploadFilesStep(inputId, outputId);\n",
              "  const outputElement = document.getElementById(outputId);\n",
              "  // Cache steps on the outputElement to make it available for the next call\n",
              "  // to uploadFilesContinue from Python.\n",
              "  outputElement.steps = steps;\n",
              "\n",
              "  return _uploadFilesContinue(outputId);\n",
              "}\n",
              "\n",
              "// This is roughly an async generator (not supported in the browser yet),\n",
              "// where there are multiple asynchronous steps and the Python side is going\n",
              "// to poll for completion of each step.\n",
              "// This uses a Promise to block the python side on completion of each step,\n",
              "// then passes the result of the previous step as the input to the next step.\n",
              "function _uploadFilesContinue(outputId) {\n",
              "  const outputElement = document.getElementById(outputId);\n",
              "  const steps = outputElement.steps;\n",
              "\n",
              "  const next = steps.next(outputElement.lastPromiseValue);\n",
              "  return Promise.resolve(next.value.promise).then((value) => {\n",
              "    // Cache the last promise value to make it available to the next\n",
              "    // step of the generator.\n",
              "    outputElement.lastPromiseValue = value;\n",
              "    return next.value.response;\n",
              "  });\n",
              "}\n",
              "\n",
              "/**\n",
              " * Generator function which is called between each async step of the upload\n",
              " * process.\n",
              " * @param {string} inputId Element ID of the input file picker element.\n",
              " * @param {string} outputId Element ID of the output display.\n",
              " * @return {!Iterable<!Object>} Iterable of next steps.\n",
              " */\n",
              "function* uploadFilesStep(inputId, outputId) {\n",
              "  const inputElement = document.getElementById(inputId);\n",
              "  inputElement.disabled = false;\n",
              "\n",
              "  const outputElement = document.getElementById(outputId);\n",
              "  outputElement.innerHTML = '';\n",
              "\n",
              "  const pickedPromise = new Promise((resolve) => {\n",
              "    inputElement.addEventListener('change', (e) => {\n",
              "      resolve(e.target.files);\n",
              "    });\n",
              "  });\n",
              "\n",
              "  const cancel = document.createElement('button');\n",
              "  inputElement.parentElement.appendChild(cancel);\n",
              "  cancel.textContent = 'Cancel upload';\n",
              "  const cancelPromise = new Promise((resolve) => {\n",
              "    cancel.onclick = () => {\n",
              "      resolve(null);\n",
              "    };\n",
              "  });\n",
              "\n",
              "  // Wait for the user to pick the files.\n",
              "  const files = yield {\n",
              "    promise: Promise.race([pickedPromise, cancelPromise]),\n",
              "    response: {\n",
              "      action: 'starting',\n",
              "    }\n",
              "  };\n",
              "\n",
              "  cancel.remove();\n",
              "\n",
              "  // Disable the input element since further picks are not allowed.\n",
              "  inputElement.disabled = true;\n",
              "\n",
              "  if (!files) {\n",
              "    return {\n",
              "      response: {\n",
              "        action: 'complete',\n",
              "      }\n",
              "    };\n",
              "  }\n",
              "\n",
              "  for (const file of files) {\n",
              "    const li = document.createElement('li');\n",
              "    li.append(span(file.name, {fontWeight: 'bold'}));\n",
              "    li.append(span(\n",
              "        `(${file.type || 'n/a'}) - ${file.size} bytes, ` +\n",
              "        `last modified: ${\n",
              "            file.lastModifiedDate ? file.lastModifiedDate.toLocaleDateString() :\n",
              "                                    'n/a'} - `));\n",
              "    const percent = span('0% done');\n",
              "    li.appendChild(percent);\n",
              "\n",
              "    outputElement.appendChild(li);\n",
              "\n",
              "    const fileDataPromise = new Promise((resolve) => {\n",
              "      const reader = new FileReader();\n",
              "      reader.onload = (e) => {\n",
              "        resolve(e.target.result);\n",
              "      };\n",
              "      reader.readAsArrayBuffer(file);\n",
              "    });\n",
              "    // Wait for the data to be ready.\n",
              "    let fileData = yield {\n",
              "      promise: fileDataPromise,\n",
              "      response: {\n",
              "        action: 'continue',\n",
              "      }\n",
              "    };\n",
              "\n",
              "    // Use a chunked sending to avoid message size limits. See b/62115660.\n",
              "    let position = 0;\n",
              "    do {\n",
              "      const length = Math.min(fileData.byteLength - position, MAX_PAYLOAD_SIZE);\n",
              "      const chunk = new Uint8Array(fileData, position, length);\n",
              "      position += length;\n",
              "\n",
              "      const base64 = btoa(String.fromCharCode.apply(null, chunk));\n",
              "      yield {\n",
              "        response: {\n",
              "          action: 'append',\n",
              "          file: file.name,\n",
              "          data: base64,\n",
              "        },\n",
              "      };\n",
              "\n",
              "      let percentDone = fileData.byteLength === 0 ?\n",
              "          100 :\n",
              "          Math.round((position / fileData.byteLength) * 100);\n",
              "      percent.textContent = `${percentDone}% done`;\n",
              "\n",
              "    } while (position < fileData.byteLength);\n",
              "  }\n",
              "\n",
              "  // All done.\n",
              "  yield {\n",
              "    response: {\n",
              "      action: 'complete',\n",
              "    }\n",
              "  };\n",
              "}\n",
              "\n",
              "scope.google = scope.google || {};\n",
              "scope.google.colab = scope.google.colab || {};\n",
              "scope.google.colab._files = {\n",
              "  _uploadFiles,\n",
              "  _uploadFilesContinue,\n",
              "};\n",
              "})(self);\n",
              "</script> "
            ]
          },
          "metadata": {}
        },
        {
          "output_type": "stream",
          "name": "stdout",
          "text": [
            "Saving freesurfer_license.txt to freesurfer_license.txt\n"
          ]
        }
      ]
    },
    {
      "cell_type": "markdown",
      "source": [
        "--------------------------------------------------------------------------------\n",
        "--------------------------------------------------------------------------------\n",
        "--------------------------------------------------------------------------------"
      ],
      "metadata": {
        "id": "Mc-EQ2_rCLSS"
      }
    },
    {
      "cell_type": "markdown",
      "metadata": {
        "id": "xUDnBIbWhJS7"
      },
      "source": [
        "Get anonymized (T1 weighted) dicom files for analysis, and create temporary folders to store these and other files."
      ]
    },
    {
      "cell_type": "code",
      "execution_count": null,
      "metadata": {
        "vscode": {
          "languageId": "plaintext"
        },
        "colab": {
          "base_uri": "https://localhost:8080/"
        },
        "id": "BCvkJMTKhJS7",
        "outputId": "b938ebbb-45d2-429f-9fe4-45c78d31db79"
      },
      "outputs": [
        {
          "output_type": "stream",
          "name": "stdout",
          "text": [
            "Cloning into 'example-dicom-structural'...\n",
            "remote: Enumerating objects: 393, done.\u001b[K\n",
            "remote: Total 393 (delta 0), reused 0 (delta 0), pack-reused 393 (from 1)\u001b[K\n",
            "Receiving objects: 100% (393/393), 15.45 MiB | 14.97 MiB/s, done.\n",
            "Resolving deltas: 100% (223/223), done.\n"
          ]
        }
      ],
      "source": [
        "# clone the repository to get the raw dicoms\n",
        "!git clone https://github.com/datalad/example-dicom-structural\n",
        "\n",
        "# create folders for the NIfTI conversions and corresponding recons\n",
        "!mkdir /content/nii_files/\n",
        "!mkdir /content/freesurfer_output/\n",
        "\n",
        "'''\n",
        "Note: \"T1 weighting\" refers to a form of MRI image processing performed by technicians.\n",
        "Online resources will nearly always provide processed MRI images,\n",
        "though they may not be T1 weighted\n",
        "''';"
      ]
    },
    {
      "cell_type": "markdown",
      "source": [
        "--------------------------------------------------------------------------------\n",
        "--------------------------------------------------------------------------------\n",
        "--------------------------------------------------------------------------------"
      ],
      "metadata": {
        "id": "4C8tsjF8COSp"
      }
    },
    {
      "cell_type": "markdown",
      "metadata": {
        "id": "l6B2eC9vhJS8"
      },
      "source": [
        "Convert the DICOMs to NIfTIs"
      ]
    },
    {
      "cell_type": "code",
      "execution_count": null,
      "metadata": {
        "vscode": {
          "languageId": "plaintext"
        },
        "colab": {
          "base_uri": "https://localhost:8080/"
        },
        "id": "7y2Nu0k3hJS8",
        "outputId": "8657572a-810d-479f-efc6-5696a3c897df"
      },
      "outputs": [
        {
          "output_type": "stream",
          "name": "stdout",
          "text": [
            "Chris Rorden's dcm2niiX version v1.0.20211006  (JP2:OpenJPEG) GCC11.2.0 x86-64 (64-bit Linux)\n",
            "Found 384 DICOM file(s)\n",
            "Warning: Unable to determine manufacturer (0008,0070), so conversion is not tuned for vendor.\n",
            "Convert 384 DICOM as /content/nii_files/dicoms_anat-T1w_20130717141500_401 (274x384x384x1)\n",
            "Conversion required 0.412129 seconds (0.389445 for core code).\n"
          ]
        }
      ],
      "source": [
        "# prepare paths\n",
        "INPUT_PATH = '/content/example-dicom-structural/dicoms/'\n",
        "OUTPUT_PATH = '/content/nii_files/'\n",
        "\n",
        "# grep to ignore some warnings regarding the manufacturer (since we're using sample dicoms)\n",
        "!dcm2niix -o '{OUTPUT_PATH}' '{INPUT_PATH}' | grep -v \"Unknown manufacturer\""
      ]
    },
    {
      "cell_type": "markdown",
      "source": [
        "--------------------------------------------------------------------------------\n",
        "--------------------------------------------------------------------------------\n",
        "--------------------------------------------------------------------------------"
      ],
      "metadata": {
        "id": "IJXeK6BtCPoO"
      }
    },
    {
      "cell_type": "markdown",
      "metadata": {
        "id": "LqjqjMwphJS8"
      },
      "source": [
        "Reconstruct (recon) the NIfTI files\n"
      ]
    },
    {
      "cell_type": "markdown",
      "source": [
        "Parallel allows you to recon multiple subjects simultaneously by recruiting n CPU cores (determined by --jobs n). It is irrelevant here, but is good to be aware of"
      ],
      "metadata": {
        "id": "kyScnVlDQ2f1"
      }
    },
    {
      "cell_type": "markdown",
      "source": [
        "Recons take a long time (4 hours+ per nii) and are quite large (~100Mb). For this reason, I have included the finished recon within this repository, with only the essential files kept"
      ],
      "metadata": {
        "id": "rwbOU4iN-FHq"
      }
    },
    {
      "cell_type": "code",
      "source": [
        "# prepare paths\n",
        "INPUT_PATH = '/content/freesurfer_output'\n",
        "nii_paths = glob.glob('/content/nii_files/*.nii') # list of paths\n",
        "ALL_NII = ' '.join(nii_paths)  # format that parallel wants\n",
        "\n",
        "# use parallel to execute recon-all on each NIfTI file\n",
        "!parallel --jobs 1 recon-all -i {} -s {/.} -all ::: /content/nii_files/*.nii"
      ],
      "metadata": {
        "id": "xaJAqGHcy42K"
      },
      "execution_count": null,
      "outputs": []
    },
    {
      "cell_type": "markdown",
      "source": [
        "--------------------------------------------------------------------------------\n",
        "--------------------------------------------------------------------------------\n",
        "--------------------------------------------------------------------------------"
      ],
      "metadata": {
        "id": "7jKwK_OWCReu"
      }
    },
    {
      "cell_type": "markdown",
      "source": [
        "Load in the sample recon"
      ],
      "metadata": {
        "id": "t_GKYK7aOm8_"
      }
    },
    {
      "cell_type": "code",
      "source": [
        "!git clone https://github.com/SamAndTheSun/sMRI_BrainAge_Tutorial.git\n",
        "recon_path = '/content/sMRI_BrainAge_Tutorial/sample_recon'"
      ],
      "metadata": {
        "id": "KWN_It_TOly_",
        "colab": {
          "base_uri": "https://localhost:8080/"
        },
        "outputId": "9d139003-78a5-4a3a-882e-9860693d404a"
      },
      "execution_count": 11,
      "outputs": [
        {
          "output_type": "stream",
          "name": "stdout",
          "text": [
            "fatal: destination path 'sMRI_BrainAge_Tutorial' already exists and is not an empty directory.\n"
          ]
        }
      ]
    },
    {
      "cell_type": "markdown",
      "source": [
        "--------------------------------------------------------------------------------\n",
        "--------------------------------------------------------------------------------\n",
        "--------------------------------------------------------------------------------"
      ],
      "metadata": {
        "id": "3zH7BItfO0-M"
      }
    },
    {
      "cell_type": "markdown",
      "source": [
        "Deep Learning Analysis Example 1: Using the brain.mgz (CNN)\n"
      ],
      "metadata": {
        "id": "mqyuhNKlO2AI"
      }
    },
    {
      "cell_type": "markdown",
      "source": [
        "The brain.mgz file represents the combination of each individual \"slice\" of the brain stitched together to form a single cohesive volume. We can use this file to construct a CNN, trained on 3D images, to predict brain age"
      ],
      "metadata": {
        "id": "Zu-neU8tQBuj"
      }
    },
    {
      "cell_type": "code",
      "source": [
        "# load in the brain.mgz files\n",
        "brain_files = glob.glob(f'{recon_path}/*/mri/brain.mgz')"
      ],
      "metadata": {
        "id": "Nv8WuMLaP_Ut"
      },
      "execution_count": null,
      "outputs": []
    },
    {
      "cell_type": "markdown",
      "source": [
        "Convert the brain files to the same space, so that the model is fed consistent data"
      ],
      "metadata": {
        "id": "fyKN4zfqSKtc"
      }
    },
    {
      "cell_type": "code",
      "source": [
        "# get the converted files\n",
        "\n",
        "for subj_brain in brain_files:\n",
        "\n",
        "  # convert the brain to\n",
        "  mri_vol2vol -i {} -s {/.} -all\n",
        "\n",
        "  # get the brain data\n",
        "  mgz_file = nib.load(subj_brain)\n",
        "  brain_data = mgz_file.get_fdata()\n",
        "\n",
        "  # convert the brain data to native space using freesurfer\n",
        "  mri_vol2vol -i {} -s {/.} -all\n"
      ],
      "metadata": {
        "id": "Rg75MQKFSRBk"
      },
      "execution_count": null,
      "outputs": []
    },
    {
      "cell_type": "markdown",
      "source": [
        "Deep Learning Analysis Example 2: Using the surf files (graphSAGE)"
      ],
      "metadata": {
        "id": "DyRUo78ITvTm"
      }
    },
    {
      "cell_type": "markdown",
      "source": [
        "The .pial files (one for each hemisphere) represent the geometric vertices and faces (i.e. the connections between vertices) for each individual's cortex. Freesurfer also provides other files, such as the cortical thickness (.thickness) and white-grey matter intensity ratio (.w-g.pct.mgh) which provide information on each of these vertices."
      ],
      "metadata": {
        "id": "mx4gPtd-UEJn"
      }
    },
    {
      "cell_type": "markdown",
      "source": [
        "We can use these files in conjunction to construct a graph of each individual's brain, with vertices serving as nodes, faces serving as edges, and attributes serving as features."
      ],
      "metadata": {
        "id": "4ovqH7T2V6H1"
      }
    },
    {
      "cell_type": "code",
      "source": [
        "# get each subject (only one here)\n",
        "subj_files = glob.glob(f'{recon_path}')\n",
        "\n",
        "# load in the pial files\n",
        "pial_files = glob.glob(f'{recon_path}/surf/*h.pial') # *h because we want both hemispheres\n",
        "\n",
        "# load in the thickness files\n",
        "thickness_files = glob.glob(f'{recon_path}/surf/*h.thickness')\n",
        "\n",
        "# load in the white-grey matter intensity ratio files\n",
        "wg_ratio_files = glob.glob(f'{recon_path}/surf/*h.w-g.pct.mgh')\n",
        "\n",
        "# glob uses a random sort order, so we sort alphabetically to match everything\n",
        "subj_files = sorted(subj_files)\n",
        "pial_files = sorted(pial_files)\n",
        "thickness_files = sorted(thickness_files)\n",
        "wg_ratio_files = sorted(wg_ratio_files)\n",
        "\n",
        "# construct a dictionary with structure: subjects -> nodes -> features/edges\n",
        "training_data = {}\n",
        "for i, subj in enumerate(subj_files):\n",
        "\n",
        "  # get the last part of the path\n",
        "  subj_id = subj.split('/')[-1]\n",
        "\n",
        "  # get the vertice and face data for the subject\n",
        "  lh_vertices, lh_faces = nib.freesurfer.read_geometry(pial_files[i]) # we know lh is before rh because we sorted alphabetically\n",
        "  rh_vertices, rh_faces = nib.freesurfer.read_geometry(pial_files[i+1])\n",
        "\n",
        "  # combine them into a single array\n",
        "  vertices = np.vstack((lh_vertices, rh_vertices+(np.max(lh_vertices)+1))) # vertices uses relative node index (min=0), so we need to account for this\n",
        "\n",
        "  # do the same for every other file type\n",
        "  lh_thickness = nib.freesurfer.io.read_morph_data(thickness_files[i]) # be mindful of which nib reading varient to use\n",
        "  rh_thickness = nib.freesurfer.io.read_morph_data(thickness_files[i+1])\n",
        "  thickness = np.hstack((lh_thickness, rh_thickness)) # not relative, notice the use of h-stack for single-dimension variables\n",
        "  #\n",
        "  lh_ratio = nib.load(wg_ratio_files[i]).get_fdata()\n",
        "  rh_ratio = nib.load(wg_ratio_files[i+1]).get_fdata()\n",
        "  ratio = np.vstack((lh_ratio, rh_ratio)) # not relative\n",
        "  ratio = ratio.squeeze() # this has dimensions (n_nodes, 1, 1) otherwise\n",
        "\n",
        "  # create a node for each vertice and a seperate list for the edges\n",
        "  training_data[subj_id] = [[] for _ in range(vertices.shape[1])]\n",
        "\n",
        "  # for each vertice add the corresponding features\n",
        "  for n, node in enumerate(training_data[subj_id]):\n",
        "    print(node)\n",
        "    node.append(vertices[:, n])\n",
        "    node.append(thickness[n])\n",
        "    node.append(ratio[n])\n",
        "\n",
        "  print(training_data)\n",
        "\n",
        "  # add an additional key representing the edges\n",
        "\n",
        "\n"
      ],
      "metadata": {
        "id": "q0lSPu1NT3nS",
        "colab": {
          "base_uri": "https://localhost:8080/",
          "height": 228
        },
        "outputId": "5145f0ff-0c00-47c3-ba4c-ec3eb8095338"
      },
      "execution_count": 49,
      "outputs": [
        {
          "output_type": "stream",
          "name": "stdout",
          "text": [
            "[]\n"
          ]
        },
        {
          "output_type": "error",
          "ename": "NameError",
          "evalue": "name 'waaargh' is not defined",
          "traceback": [
            "\u001b[0;31m---------------------------------------------------------------------------\u001b[0m",
            "\u001b[0;31mNameError\u001b[0m                                 Traceback (most recent call last)",
            "\u001b[0;32m<ipython-input-49-606f5d5da002>\u001b[0m in \u001b[0;36m<cell line: 21>\u001b[0;34m()\u001b[0m\n\u001b[1;32m     47\u001b[0m   \u001b[0;32mfor\u001b[0m \u001b[0mn\u001b[0m\u001b[0;34m,\u001b[0m \u001b[0mnode\u001b[0m \u001b[0;32min\u001b[0m \u001b[0menumerate\u001b[0m\u001b[0;34m(\u001b[0m\u001b[0mtraining_data\u001b[0m\u001b[0;34m[\u001b[0m\u001b[0msubj_id\u001b[0m\u001b[0;34m]\u001b[0m\u001b[0;34m)\u001b[0m\u001b[0;34m:\u001b[0m\u001b[0;34m\u001b[0m\u001b[0;34m\u001b[0m\u001b[0m\n\u001b[1;32m     48\u001b[0m     \u001b[0mprint\u001b[0m\u001b[0;34m(\u001b[0m\u001b[0mnode\u001b[0m\u001b[0;34m)\u001b[0m\u001b[0;34m\u001b[0m\u001b[0;34m\u001b[0m\u001b[0m\n\u001b[0;32m---> 49\u001b[0;31m     \u001b[0mwaaargh\u001b[0m\u001b[0;34m(\u001b[0m\u001b[0;34m)\u001b[0m\u001b[0;34m\u001b[0m\u001b[0;34m\u001b[0m\u001b[0m\n\u001b[0m\u001b[1;32m     50\u001b[0m     \u001b[0mnode\u001b[0m\u001b[0;34m.\u001b[0m\u001b[0mappend\u001b[0m\u001b[0;34m(\u001b[0m\u001b[0mvertices\u001b[0m\u001b[0;34m[\u001b[0m\u001b[0;34m:\u001b[0m\u001b[0;34m,\u001b[0m \u001b[0mn\u001b[0m\u001b[0;34m]\u001b[0m\u001b[0;34m)\u001b[0m\u001b[0;34m\u001b[0m\u001b[0;34m\u001b[0m\u001b[0m\n\u001b[1;32m     51\u001b[0m     \u001b[0mnode\u001b[0m\u001b[0;34m.\u001b[0m\u001b[0mappend\u001b[0m\u001b[0;34m(\u001b[0m\u001b[0mthickness\u001b[0m\u001b[0;34m[\u001b[0m\u001b[0mn\u001b[0m\u001b[0;34m]\u001b[0m\u001b[0;34m)\u001b[0m\u001b[0;34m\u001b[0m\u001b[0;34m\u001b[0m\u001b[0m\n",
            "\u001b[0;31mNameError\u001b[0m: name 'waaargh' is not defined"
          ]
        }
      ]
    },
    {
      "cell_type": "markdown",
      "source": [],
      "metadata": {
        "id": "ai25FQ_4WRRA"
      }
    }
  ],
  "metadata": {
    "language_info": {
      "name": "python"
    },
    "colab": {
      "provenance": []
    },
    "kernelspec": {
      "name": "python3",
      "display_name": "Python 3"
    }
  },
  "nbformat": 4,
  "nbformat_minor": 0
}